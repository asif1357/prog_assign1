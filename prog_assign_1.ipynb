{
 "cells": [
  {
   "cell_type": "code",
   "execution_count": 1,
   "id": "da290bc7",
   "metadata": {},
   "outputs": [
    {
     "name": "stdout",
     "output_type": "stream",
     "text": [
      "Hello Python\n"
     ]
    }
   ],
   "source": [
    "print(\"Hello Python\")"
   ]
  },
  {
   "cell_type": "code",
   "execution_count": 4,
   "id": "cff3583c",
   "metadata": {},
   "outputs": [
    {
     "name": "stdout",
     "output_type": "stream",
     "text": [
      "7 0.75\n"
     ]
    }
   ],
   "source": [
    "a,b=3,4\n",
    "c=a+b\n",
    "d=a/b\n",
    "print(c , d)"
   ]
  },
  {
   "cell_type": "code",
   "execution_count": 5,
   "id": "340f85ad",
   "metadata": {},
   "outputs": [
    {
     "name": "stdout",
     "output_type": "stream",
     "text": [
      "enter base3\n",
      "enter height4\n",
      "area of triangle is 6.0 \n"
     ]
    }
   ],
   "source": [
    "base=int(input(\"enter base\"))\n",
    "height=int(input(\"enter height\"))\n",
    "area=(1/2)*base*height\n",
    "print(\"area of triangle is {} \".format(area))"
   ]
  },
  {
   "cell_type": "code",
   "execution_count": null,
   "id": "34d9c452",
   "metadata": {},
   "outputs": [],
   "source": [
    "num1=int(input(\"enter first no. \"))\n",
    "num2=int(input(\"enter second no. \"))\n",
    "num1,num2=num2,num1\n",
    "print(num1,num2)"
   ]
  },
  {
   "cell_type": "code",
   "execution_count": null,
   "id": "f0536d22",
   "metadata": {},
   "outputs": [],
   "source": [
    "import random\n",
    "num=random.randint(1,100)\n",
    "print(num)\n",
    "num_r=random.randrange(1,100,2)\n",
    "print(num_r)"
   ]
  },
  {
   "cell_type": "code",
   "execution_count": null,
   "id": "0de05975",
   "metadata": {},
   "outputs": [],
   "source": []
  }
 ],
 "metadata": {
  "kernelspec": {
   "display_name": "Python 3 (ipykernel)",
   "language": "python",
   "name": "python3"
  },
  "language_info": {
   "codemirror_mode": {
    "name": "ipython",
    "version": 3
   },
   "file_extension": ".py",
   "mimetype": "text/x-python",
   "name": "python",
   "nbconvert_exporter": "python",
   "pygments_lexer": "ipython3",
   "version": "3.9.12"
  }
 },
 "nbformat": 4,
 "nbformat_minor": 5
}
